{
 "cells": [
  {
   "cell_type": "code",
   "execution_count": 190,
   "id": "7256c490",
   "metadata": {},
   "outputs": [
    {
     "data": {
      "text/plain": [
       "'1.3.4'"
      ]
     },
     "execution_count": 190,
     "metadata": {},
     "output_type": "execute_result"
    }
   ],
   "source": [
    "import pandas as pd\n",
    "import numpy as np\n",
    "import xlwt\n",
    "pd.__version__"
   ]
  },
  {
   "cell_type": "code",
   "execution_count": 191,
   "id": "d7fe2ef8",
   "metadata": {
    "scrolled": false
   },
   "outputs": [],
   "source": [
    "df = pd.read_excel(\"COD_EE.xlsx\", header=0,)"
   ]
  },
  {
   "cell_type": "code",
   "execution_count": 192,
   "id": "4fffd0e5",
   "metadata": {},
   "outputs": [],
   "source": [
    "df_codigo = df.loc[:,\"Código\"]\n",
    "test= open(\"cursos.txt\",\"w+\")"
   ]
  },
  {
   "cell_type": "code",
   "execution_count": 193,
   "id": "db2eff4b",
   "metadata": {},
   "outputs": [],
   "source": [
    "#creación de códigos en txt\n",
    "for i in range (1,df_codigo.shape[0]):\n",
    "    for j in range(2,df.shape[1]-1):\n",
    "        if (str(df_codigo[i])!=\"nan\" and str(df.iat[i,j])!=\"nan\"):\n",
    "            test.write(df_codigo[i]+str(df.iat[i,j])+\"\\r\")"
   ]
  },
  {
   "cell_type": "code",
   "execution_count": 194,
   "id": "1dbef082",
   "metadata": {},
   "outputs": [],
   "source": [
    "#transformación de códigos en excel\n",
    "def txt_xls(filename,xlsname):\n",
    "    try:\n",
    "        f = open(filename) \n",
    "        xls=xlwt.Workbook()\n",
    "                 # Método para generar Excel, declarar Excel\n",
    "        sheet = xls.add_sheet('sheet1',cell_overwrite_ok=True) \n",
    "        x = 0 \n",
    "        while True:\n",
    "                         # Ciclo por línea, leer archivo de texto\n",
    "            line = f.readline() \n",
    "            if not line: \n",
    "                break; #Si no hay contenido, salga del bucle\n",
    "            for i in range(len(line.split('\\t'))):\n",
    "                item=line.split('\\t')[i]\n",
    "                sheet.write (x, i, item) #x longitud de celda, i latitud de celda\n",
    "                x = x + 1 #excel comienza una nueva línea\n",
    "        f.close()\n",
    "        xls.save (xlsname) #Guardar archivo xls\n",
    "    except:\n",
    "        raise"
   ]
  },
  {
   "cell_type": "code",
   "execution_count": 195,
   "id": "d12d5dfd",
   "metadata": {},
   "outputs": [],
   "source": [
    "txt_xls(\"cursos.txt\",\"codigo_cursos.xls\")"
   ]
  },
  {
   "cell_type": "code",
   "execution_count": 158,
   "id": "cabbfafb",
   "metadata": {},
   "outputs": [
    {
     "ename": "SyntaxError",
     "evalue": "invalid syntax (Temp/ipykernel_9636/1132970858.py, line 1)",
     "output_type": "error",
     "traceback": [
      "\u001b[1;36m  File \u001b[1;32m\"C:\\Users\\Jonathan\\AppData\\Local\\Temp/ipykernel_9636/1132970858.py\"\u001b[1;36m, line \u001b[1;32m1\u001b[0m\n\u001b[1;33m    URL GOTO=https://studio.code.org/home?lang=es-MX\u001b[0m\n\u001b[1;37m        ^\u001b[0m\n\u001b[1;31mSyntaxError\u001b[0m\u001b[1;31m:\u001b[0m invalid syntax\n"
     ]
    }
   ],
   "source": [
    "#código IMacros\n",
    "URL GOTO=https://studio.code.org/home?lang=es-MX\n",
    "TAG POS=1 TYPE=BUTTON ATTR=TXT:Crea<SP>una<SP>sección\n",
    "TAG POS=1 TYPE=DIV ATTR=TXT:Recomendado<SP>para<SP>mayores<SP>de<SP>13<SP>años\n",
    "TAB T=2\n",
    "TAB T=1\n",
    "TAG POS=1 TYPE=INPUT:TEXT ATTR=ID:uitest-section-name CONTENT=RAP-3MC-2022\n",
    "TAG POS=1 TYPE=SELECT ATTR=TXT:K123456789101112Other/Mixed CONTENT=%11\n",
    "TAG POS=1 TYPE=DIV ATTR=TXT:Seleccionar<SP>cursoDecide<SP>despuésDescubrimientos<SP>de*\n",
    "TAG POS=1 TYPE=SELECT ATTR=ID:uitest-assignment-family CONTENT=%4\n",
    "TAG POS=2 TYPE=DIV ATTR=TXT:Guardar\n",
    "TAG POS=1 TYPE=SPAN ATTR=TXT:Crea<SP>una<SP>sección"
   ]
  },
  {
   "cell_type": "code",
   "execution_count": null,
   "id": "997dff83",
   "metadata": {},
   "outputs": [],
   "source": []
  }
 ],
 "metadata": {
  "kernelspec": {
   "display_name": "Python 3 (ipykernel)",
   "language": "python",
   "name": "python3"
  },
  "language_info": {
   "codemirror_mode": {
    "name": "ipython",
    "version": 3
   },
   "file_extension": ".py",
   "mimetype": "text/x-python",
   "name": "python",
   "nbconvert_exporter": "python",
   "pygments_lexer": "ipython3",
   "version": "3.9.12"
  }
 },
 "nbformat": 4,
 "nbformat_minor": 5
}
