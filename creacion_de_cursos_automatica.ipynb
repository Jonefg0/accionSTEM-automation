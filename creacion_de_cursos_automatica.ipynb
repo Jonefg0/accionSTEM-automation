{
 "cells": [
  {
   "cell_type": "code",
   "execution_count": 1,
   "id": "adb47188",
   "metadata": {},
   "outputs": [],
   "source": [
    "from selenium import webdriver\n",
    "import pandas as pd\n",
    "import xlwt\n",
    "import time\n",
    "import csv\n",
    "import datetime"
   ]
  },
  {
   "cell_type": "code",
   "execution_count": null,
   "id": "d7b33cdc",
   "metadata": {},
   "outputs": [],
   "source": [
    "#driver.find_element_by_xpath('').send_keys()\n",
    "#driver.find_element_by_xpath('').click()"
   ]
  },
  {
   "cell_type": "code",
   "execution_count": null,
   "id": "8149ac54",
   "metadata": {},
   "outputs": [],
   "source": [
    "driver = webdriver.Chrome('webdriver//chromedriver.exe')"
   ]
  },
  {
   "cell_type": "markdown",
   "id": "a1bf994c",
   "metadata": {},
   "source": [
    "# Creación cursos CODE"
   ]
  },
  {
   "cell_type": "code",
   "execution_count": null,
   "id": "fd9ae018",
   "metadata": {},
   "outputs": [],
   "source": [
    "#login CODE\n",
    "driver.get('https://studio.code.org/home')\n",
    "password = \"\"\n",
    "email = \"\"\n",
    "driver.find_element_by_xpath('//*[@id=\"user_login\"]').send_keys(email)\n",
    "driver.find_element_by_xpath('//*[@id=\"user_password\"]').send_keys(password)\n",
    "driver.find_element_by_xpath('//*[@id=\"signin-button\"]').click()"
   ]
  },
  {
   "cell_type": "code",
   "execution_count": null,
   "id": "e3f125db",
   "metadata": {},
   "outputs": [],
   "source": [
    "#ejecución creacion cursos CODE\n",
    "df = pd.read_excel('codigo_cursos.xls')\n",
    "resultados_CODE= open(\"codigosCode.txt\",\"w+\")\n",
    "resultados_CODE.write(\"EE,Codigo Code \\r\")\n",
    "for i in range (1,df.shape[0]):\n",
    "    select = df.iat[i,0]\n",
    "    curso = select[0:-1]\n",
    "    #create section\n",
    "    driver.find_element_by_xpath('//*[@id=\"classroom-sections\"]/div[1]/div[2]/div[1]/div/button').click()\n",
    "    driver.find_element_by_xpath('//*[@id=\"classroom-sections\"]/div[4]/div[2]/div/div/div/h1').click()\n",
    "    #type of student login\n",
    "    driver.find_element_by_xpath('//*[@id=\"classroom-sections\"]/div[4]/div[2]/div/div/div/div[1]/div[1]/div[3]').click()\n",
    "    #section name \n",
    "    driver.find_element_by_xpath('//*[@id=\"uitest-section-name\"]').send_keys(curso)\n",
    "    #grade\n",
    "    driver.find_element_by_xpath('//*[@id=\"classroom-sections\"]/div[4]/div[2]/div/div/div/div[1]/div[2]/select').click()\n",
    "    #grade selection\n",
    "    driver.find_element_by_xpath('//*[@id=\"classroom-sections\"]/div[4]/div[2]/div/div/div/div[1]/div[2]/select/option[13]').click()\n",
    "    #course\n",
    "    driver.find_element_by_xpath('//*[@id=\"uitest-assignment-family\"]').click()\n",
    "    driver.find_element_by_xpath('//*[@id=\"uitest-assignment-family\"]/optgroup[2]/option[4]').click()\n",
    "    #save\n",
    "    driver.find_element_by_xpath('//*[@id=\"classroom-sections\"]/div[4]/div[2]/div/div/div/div[2]/div[2]/div/div[2]').click()\n",
    "    time.sleep(3)\n",
    "    elem = driver.find_element_by_xpath('//*[@id=\"classroom-sections\"]/div[2]/div[2]/div/div/div/table/tbody/tr[1]/td[6]/a')\n",
    "    resultados.write( curso+\",\"+elem.text+\"\\r\")\n",
    "resultados.close()"
   ]
  },
  {
   "cell_type": "markdown",
   "id": "f68da3e8",
   "metadata": {},
   "source": [
    "# Creación cursos Khan Academy"
   ]
  },
  {
   "cell_type": "code",
   "execution_count": null,
   "id": "57967e4f",
   "metadata": {},
   "outputs": [],
   "source": [
    "#Login Khan Academy\n",
    "driver.get('https://es.khanacademy.org/login')\n",
    "password = \"\"\n",
    "email = \"\"\n",
    "driver.find_element_by_xpath('//*[@id=\"uid-login-form-0-wb-id-identifier-field\"]').send_keys(email)\n",
    "driver.find_element_by_xpath('//*[@id=\"uid-labeled-text-field-1-wb-id-field\"]').send_keys(password)\n",
    "driver.find_element_by_xpath('//*[@id=\"app-shell-root\"]/div/div[3]/div/div[3]/section[2]/div/div/form/button').click()"
   ]
  },
  {
   "cell_type": "code",
   "execution_count": null,
   "id": "179b0dd9",
   "metadata": {},
   "outputs": [],
   "source": [
    "driver.find_element_by_xpath('//*[@id=\"app-shell-root\"]/div/div[4]/div/div[3]/div[2]/div[1]/div[1]/div').click()\n"
   ]
  },
  {
   "cell_type": "code",
   "execution_count": null,
   "id": "6ca590a3",
   "metadata": {},
   "outputs": [],
   "source": [
    "driver.find_element_by_xpath('//*[@id=\"uid-labeled-text-field-15-wb-id-field\"]').send_keys(\"test\")\n",
    "driver.find_element_by_xpath('//*[@id=\"app-shell-root\"]/div/div[4]/div/div[3]/div[2]/div[1]/div[1]/div/div/div[1]/div/div[2]/div[3]/div[2]/button').click()"
   ]
  },
  {
   "cell_type": "code",
   "execution_count": null,
   "id": "6fa0fd96",
   "metadata": {},
   "outputs": [],
   "source": [
    "driver.find_element_by_class_name('//*[@id=\"app-shell-root\"]/div/div[4]/div/div[3]/div[2]/div[1]/div[1]/div/div/div[1]/div/div[2]/div[3]/div[2]/button').click()"
   ]
  },
  {
   "cell_type": "code",
   "execution_count": null,
   "id": "ab8cc42d",
   "metadata": {},
   "outputs": [],
   "source": [
    "#ejecucion creacion cursos KHAN ACADEMY\n",
    "df = pd.read_excel('codigo_cursos.xls')\n",
    "resultados_KhanAcademy= open(\"codigosKhan.txt\",\"w+\")\n",
    "resultados_KhanAcademy.write(\"EE,Codigo KhanAcademy \\r\")\n",
    "for i in range (5,df.shape[0]):\n",
    "    select = df.iat[i,0]\n",
    "    curso = select[0:-1]\n",
    "    time.sleep(3)\n",
    "    driver.find_element_by_xpath('//*[@id=\"app-shell-root\"]/div/div[4]/div/div[3]/div[2]/div[1]/div[1]/div').click()\n",
    "    time.sleep(3)\n",
    "    driver.find_element_by_xpath('/html/body/div/div[3]/div/div[2]/div/div/div[4]/div/div[3]/div[2]/div[1]/div[1]/div/div/div[1]/div/div[2]/div[2]/div/div/div/div[1]/div/div/div[2]/input').send_keys(curso)\n",
    "    time.sleep(3)\n",
    "    driver.find_element_by_xpath('//*[@id=\"app-shell-root\"]/div/div[4]/div/div[3]/div[2]/div[1]/div[1]/div/div/div[1]/div/div[2]/div[3]/div[2]/button').click()\n",
    "    time.sleep(3)\n",
    "    driver.find_element_by_xpath('//*[@id=\"app-shell-root\"]/div/div[4]/div/div[3]/div[2]/div[1]/div[1]/div/div/div[1]/div/div[2]/div[3]/div[2]/button[1]').click()\n",
    "    time.sleep(3)\n",
    "    driver.find_element_by_xpath('//*[@id=\"app-shell-root\"]/div/div[4]/div/div[3]/div[2]/div[1]/div[1]/div/div/div[1]/div/div[2]/div[3]/div[2]/button').click()\n",
    "    time.sleep(3)\n",
    "    driver.find_element_by_xpath('//*[@id=\"app-shell-root\"]/div/div[4]/div/div[3]/div[2]/div[1]/div[1]/div/div/div[1]/div/div[2]/div[3]/div[2]/button[1]').click()\n",
    "    time.sleep(10)\n",
    "    elem = driver.find_element_by_xpath('//*[@id=\"class-shell\"]/div/div[2]/div[2]/div[2]/div[1]/h4')\n",
    "    resultados_KhanAcademy.write( curso+\",\"+elem.text+\"\\r\")\n",
    "    driver.get('https://es.khanacademy.org/teacher/dashboard')\n",
    "    time.sleep(2)"
   ]
  },
  {
   "cell_type": "code",
   "execution_count": null,
   "id": "e586d76d",
   "metadata": {},
   "outputs": [],
   "source": [
    "#transformación de códigos en excel\n",
    "def txt_xls(filename,xlsname):\n",
    "    try:\n",
    "        f = open(filename) \n",
    "        xls=xlwt.Workbook()\n",
    "                 # Método para generar Excel, declarar Excel\n",
    "        sheet = xls.add_sheet('sheet1',cell_overwrite_ok=True) \n",
    "        x = 0 \n",
    "        while True:\n",
    "                         # Ciclo por línea, leer archivo de texto\n",
    "            line = f.readline() \n",
    "            if not line: \n",
    "                break; #Si no hay contenido, salga del bucle\n",
    "            for i in range(len(line.split(','))):\n",
    "                item=line.split(',')[i]\n",
    "                sheet.write (x, i, item) #x longitud de celda, i latitud de celda\n",
    "            x = x + 1 #excel comienza una nueva línea\n",
    "        f.close()\n",
    "        xls.save (xlsname) #Guardar archivo xls\n",
    "    except:\n",
    "        raise"
   ]
  },
  {
   "cell_type": "code",
   "execution_count": null,
   "id": "c19a25c4",
   "metadata": {},
   "outputs": [],
   "source": [
    "#txt_xls(\"codigosCODE.txt\",\"codigos_CODE_cursos_resultado.xls\")\n",
    "txt_xls(\"codigosKhan.txt\",\"codigos_KHAN_cursos_resultado.xls\")"
   ]
  },
  {
   "cell_type": "code",
   "execution_count": null,
   "id": "aaedac8d",
   "metadata": {},
   "outputs": [],
   "source": [
    "#create section\n",
    "driver.find_element_by_xpath('//*[@id=\"classroom-sections\"]/div[1]/div[2]/div[1]/div/button').click()\n",
    "driver.find_element_by_xpath('//*[@id=\"classroom-sections\"]/div[4]/div[2]/div/div/div/h1').click()\n",
    "#type of student login\n",
    "driver.find_element_by_xpath('//*[@id=\"classroom-sections\"]/div[4]/div[2]/div/div/div/div[1]/div[1]/div[3]').click()"
   ]
  },
  {
   "cell_type": "code",
   "execution_count": null,
   "id": "d61b0470",
   "metadata": {},
   "outputs": [],
   "source": [
    "#section name \n",
    "driver.find_element_by_xpath('//*[@id=\"uitest-section-name\"]').send_keys(\"LBGM3B\")\n",
    "#grade\n",
    "driver.find_element_by_xpath('//*[@id=\"classroom-sections\"]/div[4]/div[2]/div/div/div/div[1]/div[2]/select').click()\n",
    "#grade selection\n",
    "driver.find_element_by_xpath('//*[@id=\"classroom-sections\"]/div[4]/div[2]/div/div/div/div[1]/div[2]/select/option[13]').click()\n",
    "#course\n",
    "driver.find_element_by_xpath('//*[@id=\"uitest-assignment-family\"]').click()\n",
    "driver.find_element_by_xpath('//*[@id=\"uitest-assignment-family\"]/optgroup[2]/option[4]').click()\n",
    "driver.manage().timeouts().implicitlyWait(3, TimeUnit.SECONDS);\n",
    "#save\n",
    "driver.find_element_by_xpath('//*[@id=\"classroom-sections\"]/div[4]/div[2]/div/div/div/div[2]/div[2]/div/div[2]').click()"
   ]
  },
  {
   "cell_type": "code",
   "execution_count": null,
   "id": "3ce249f5",
   "metadata": {},
   "outputs": [],
   "source": []
  },
  {
   "cell_type": "code",
   "execution_count": null,
   "id": "07bd2a5a",
   "metadata": {},
   "outputs": [],
   "source": []
  }
 ],
 "metadata": {
  "kernelspec": {
   "display_name": "Python 3 (ipykernel)",
   "language": "python",
   "name": "python3"
  },
  "language_info": {
   "codemirror_mode": {
    "name": "ipython",
    "version": 3
   },
   "file_extension": ".py",
   "mimetype": "text/x-python",
   "name": "python",
   "nbconvert_exporter": "python",
   "pygments_lexer": "ipython3",
   "version": "3.9.7"
  }
 },
 "nbformat": 4,
 "nbformat_minor": 5
}
